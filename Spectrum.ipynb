{
 "cells": [
  {
   "cell_type": "code",
   "execution_count": 1,
   "metadata": {},
   "outputs": [],
   "source": [
    "import pandas as pd\n",
    "%matplotlib inline\n",
    "from pydub import AudioSegment\n",
    "import matplotlib.pyplot as plt\n",
    "import math\n",
    "import numpy as np\n",
    "from copy import deepcopy\n",
    "\n",
    "import json\n",
    "import os\n",
    "\n",
    "import scipy.io.wavfile\n",
    "from scipy.io.wavfile import read\n",
    "from scipy import signal\n",
    "\n",
    "\n",
    "artists = pd.read_csv('fma_metadata/raw_artists.csv')\n",
    "tracks = pd.read_csv('fma_metadata/raw_tracks.csv')\n",
    "genres = pd.read_csv('fma_metadata/raw_genres.csv')\n",
    "\n",
    "# artists.head()\n",
    "# tracks.rename(columns=tracks.iloc[1])\n",
    "# print(tracks.columns.values)\n",
    "# print(genres.head(10))\n",
    "# print(tracks)\n"
   ]
  },
  {
   "cell_type": "code",
   "execution_count": 2,
   "metadata": {},
   "outputs": [
    {
     "name": "stdout",
     "output_type": "stream",
     "text": [
      "['Unnamed: 0' 'track_id' 'genre_top']\n",
      "   Unnamed: 0  track_id genre_top\n",
      "0           0         2   Hip-Hop\n"
     ]
    }
   ],
   "source": [
    "# import pickle\n",
    "# f = open('top_genre.txt', 'rb')\n",
    "# # f.close()\n",
    "# top_genre = pickle.load(f)\n",
    "# f.close()\n",
    "# # top_genre\n",
    "genre = pd.read_csv('genre.csv')\n",
    "print(genre.columns.values)\n",
    "print(genre[genre['track_id'] == 2])\n"
   ]
  },
  {
   "cell_type": "code",
   "execution_count": 3,
   "metadata": {
    "scrolled": true
   },
   "outputs": [],
   "source": [
    "# rootdir = 'fma_small'\n",
    "\n",
    "# MAX_SONGS = 8000\n",
    "\n",
    "# numSongs = 0\n",
    "\n",
    "# for subdir, dirs, files in os.walk(rootdir):\n",
    "#     for file in files:\n",
    "#         try:\n",
    "# #         print(file)\n",
    "\n",
    "#             if not file.endswith(\".mp3\"):\n",
    "#                 continue\n",
    "#             if (numSongs %100 == 0):\n",
    "#                 print(numSongs)\n",
    "#             numSongs += 1\n",
    "#             if (numSongs > MAX_SONGS):\n",
    "#                 break\n",
    "                \n",
    "#             track_id = int(os.path.splitext(file)[0])\n",
    "            \n",
    "#             sound = AudioSegment.from_mp3(os.path.join(subdir, file))\n",
    "#             if sound.channels == 2:\n",
    "#                 [left, right] = sound.split_to_mono()\n",
    "#                 sound = right\n",
    "#                 sound.set_channels(1)\n",
    "                \n",
    "# #             print(os.path.splitext(file))\n",
    "# #             print(subdir.split(\"\\\\\")[1])\n",
    "#             newDir = \"wav/\" + subdir.split(\"\\\\\")[1]\n",
    "#             if not os.path.exists(newDir):\n",
    "#                 os.makedirs(newDir)\n",
    "#             sound.export(newDir +\"/\"+ os.path.splitext(file)[0] + \".wav\", format=\"wav\")\n",
    "\n",
    "#         except Exception as e: \n",
    "#             print('Error with this file', e)\n",
    "#     if (numSongs > MAX_SONGS):\n",
    "#         break"
   ]
  },
  {
   "cell_type": "code",
   "execution_count": 4,
   "metadata": {
    "scrolled": true
   },
   "outputs": [
    {
     "name": "stdout",
     "output_type": "stream",
     "text": [
      "0\n"
     ]
    },
    {
     "name": "stderr",
     "output_type": "stream",
     "text": [
      "C:\\Program Files\\Python36\\lib\\site-packages\\ipykernel_launcher.py:50: RuntimeWarning: divide by zero encountered in log\n"
     ]
    },
    {
     "name": "stdout",
     "output_type": "stream",
     "text": [
      "(40, 129, 100)\n"
     ]
    }
   ],
   "source": [
    "from matplotlib.colors import Normalize\n",
    "MAX_SONGS = 40\n",
    "\n",
    "numSongs = 0\n",
    "\n",
    "\n",
    "dim = 100 # length of the samples\n",
    "offset = 2000 # start getting song values at this time\n",
    "\n",
    "data_x = np.zeros((MAX_SONGS, 129, dim))\n",
    "data_y = np.chararray((MAX_SONGS))\n",
    "\n",
    "rootdir = 'wav'\n",
    "\n",
    "for subdir, dirs, files in os.walk(rootdir):\n",
    "    for file in files:\n",
    "        try:\n",
    "#         print(file)\n",
    "\n",
    "            if not file.endswith(\".wav\"):\n",
    "                continue\n",
    "            if (numSongs %100 == 0):\n",
    "                print(numSongs)\n",
    "            \n",
    "                \n",
    "            track_id = int(os.path.splitext(file)[0])\n",
    "            \n",
    "#             sound = AudioSegment.from_mp3(os.path.join(subdir, file))\n",
    "#             if sound.channels == 2:\n",
    "#                 [left, right] = sound.split_to_mono()\n",
    "#                 sound = right\n",
    "#                 sound.set_channels(1)\n",
    "                \n",
    "#             print(os.path.splitext(file))\n",
    "#             print(subdir.split(\"\\\\\")[1])\n",
    "#             newDir = \"wav/\" + subdir.split(\"\\\\\")[1]\n",
    "#             if not os.path.exists(newDir):\n",
    "#                 os.makedirs(newDir)\n",
    "#             sound.export(newDir +\"/\"+ os.path.splitext(file)[0] + \".wav\", format=\"wav\")\n",
    "\n",
    "            sr_value, x_value = scipy.io.wavfile.read(os.path.join(subdir,file))\n",
    "    #         print('sr_value', sr_value)\n",
    "    #         print('x_value', x_value.shape)\n",
    "            f, t, Sxx = signal.spectrogram(x=x_value,fs=sr_value, axis=0)\n",
    "    #         print('f ', f.shape)\n",
    "    #         print('t, ', t.shape)\n",
    "    #         print('Sxx', Sxx.shape)\n",
    "    #         print(np.max(Sxx))\n",
    "    #         print(np.mean(Sxx))\n",
    "            Sxx = np.log(Sxx)\n",
    "\n",
    "    #         fig = plt.figure(figsize=(20,5))\n",
    "    #         plt.pcolormesh(t, f, Sxx)\n",
    "    #         plt.savefig('spectrum')\n",
    "#             plt.show()\n",
    "    \n",
    "            \n",
    "            if Sxx.shape[1] < offset+dim:\n",
    "                continue\n",
    "                \n",
    "            numSongs += 1\n",
    "            if (numSongs > MAX_SONGS):\n",
    "                break\n",
    "                \n",
    "#             data_x.append(Sxx[:,offset:offset+dim])\n",
    "            data_x[numSongs-1, :, :] = Sxx[:,offset:offset+dim]\n",
    "#             data_y.append(genre[genre['track_id'] == track_id]['genre_top'].iloc[0])\n",
    "            data_y[numSongs-1] = genre[genre['track_id'] == track_id]['genre_top'].iloc[0]\n",
    "        \n",
    "        except Exception as e: \n",
    "            print('Error with this file', e)\n",
    "    if (numSongs > MAX_SONGS):\n",
    "        break\n",
    "        \n",
    "# in case numSongs < max_songs\n",
    "print(data_x.shape)\n",
    "# data_x = data_x.transpose()\n",
    "data_x = data_x[0:numSongs-1, :, :]\n",
    "data_y = data_y[0:numSongs-1]\n",
    "\n",
    "np.save('data_x_spectrum', data_x)\n",
    "np.save('data_y_spectrum', data_y)\n"
   ]
  },
  {
   "cell_type": "code",
   "execution_count": 5,
   "metadata": {},
   "outputs": [],
   "source": [
    "# data_x = np.load(open('data_x.txt', 'rb'))\n",
    "# data_y = np.load(open('data_y.txt', 'rb'))"
   ]
  },
  {
   "cell_type": "code",
   "execution_count": 6,
   "metadata": {},
   "outputs": [
    {
     "name": "stdout",
     "output_type": "stream",
     "text": [
      "x data shape  (40, 129, 100)\n"
     ]
    }
   ],
   "source": [
    "print('x data shape ', data_x.shape)\n",
    "# print('y data ', data_y)\n",
    "# print('unique genres ', np.unique(data_y))\n",
    "\n",
    "def permuteRows(a, b):\n",
    "    assert len(a) == len(b)\n",
    "    p = np.random.permutation(len(a))\n",
    "    return a[p,:,:], b[p]\n",
    "\n",
    "# # now I'll set the genres to be numbers from 0 to number of unique genres\n",
    "# unique_genres = np.unique(data_y)\n",
    "# genre_map = {}\n",
    "# ind = 0\n",
    "# for g in unique_genres:\n",
    "# #     print(g)\n",
    "#     genre_map[g] = ind\n",
    "#     ind += 1\n",
    "    \n",
    "# data_y = np.vectorize(genre_map.__getitem__)(data_y)\n",
    "\n",
    "# # Convert y data to one hot vector\n",
    "# oneHot = np.zeros((len(data_y), len(unique_genres)))\n",
    "# oneHot[np.arange(len(data_y)), data_y] = 1\n",
    "# data_y = oneHot\n",
    "# # print(data_y)\n",
    "\n",
    "data_y_strings = data_y\n",
    "from sklearn.preprocessing import LabelBinarizer\n",
    "encoder = LabelBinarizer()\n",
    "data_y = encoder.fit_transform(data_y)\n",
    "\n",
    "data_x, data_y = permuteRows(data_x, data_y)\n"
   ]
  },
  {
   "cell_type": "code",
   "execution_count": 7,
   "metadata": {},
   "outputs": [],
   "source": [
    "# gen1_ind = data_y[:,3] ==1\n",
    "# print(data_x[gen1_ind, :][0:2])\n",
    "# gen2_ind = data_y[:,2] ==1\n",
    "# data_x[gen2_ind, :][0:2]"
   ]
  },
  {
   "cell_type": "code",
   "execution_count": 8,
   "metadata": {},
   "outputs": [
    {
     "name": "stdout",
     "output_type": "stream",
     "text": [
      "[ 3 20  5  3  2  7]\n"
     ]
    }
   ],
   "source": [
    "classes_amount = np.sum(data_y, axis=0)\n",
    "print(classes_amount)"
   ]
  },
  {
   "cell_type": "code",
   "execution_count": 9,
   "metadata": {},
   "outputs": [
    {
     "name": "stderr",
     "output_type": "stream",
     "text": [
      "C:\\Program Files\\Python36\\lib\\site-packages\\h5py\\__init__.py:36: FutureWarning: Conversion of the second argument of issubdtype from `float` to `np.floating` is deprecated. In future, it will be treated as `np.float64 == np.dtype(float).type`.\n",
      "  from ._conv import register_converters as _register_converters\n",
      "Using TensorFlow backend.\n"
     ]
    },
    {
     "name": "stdout",
     "output_type": "stream",
     "text": [
      "x shape  (40, 129, 100)\n",
      "y shape  (40, 6)\n"
     ]
    }
   ],
   "source": [
    "from sklearn.metrics import confusion_matrix, precision_score\n",
    "from sklearn.model_selection import train_test_split\n",
    "from keras.layers import Input, Conv1D, MaxPooling1D, Dense, Dropout, Flatten,\\\n",
    "    GlobalAveragePooling1D, GlobalMaxPooling1D, Lambda, Add\n",
    "from keras.models import Sequential\n",
    "from keras.regularizers import l2\n",
    "from keras.regularizers import Regularizer\n",
    "import matplotlib.pyplot as plt\n",
    "import pandas as pd\n",
    "import numpy as np\n",
    "from keras.layers import merge\n",
    "from keras.models import Model\n",
    "from keras.models import Sequential\n",
    "from keras.layers import Dense, Dropout\n",
    "from keras.layers import Embedding\n",
    "from keras.layers import Conv1D, GlobalAveragePooling1D, MaxPooling1D\n",
    "\n",
    "print('x shape ', data_x.shape)\n",
    "print('y shape ', data_y.shape)\n",
    "\n",
    "x_train, x_test, y_train, y_test = train_test_split(data_x, data_y, test_size=0.10, random_state=0)\n",
    "# print(x_train.shape, x_test.shape)\n",
    "# print(y_test)\n",
    "\n",
    "x_train, x_val, y_train, y_val = train_test_split(x_train, y_train, test_size=0.50, random_state=0)\n",
    "\n",
    "input_dim = x_train.shape[1]\n",
    "out_dim = y_train.shape[1]"
   ]
  },
  {
   "cell_type": "code",
   "execution_count": 13,
   "metadata": {},
   "outputs": [
    {
     "name": "stdout",
     "output_type": "stream",
     "text": [
      "(18, 12900)\n",
      "_________________________________________________________________\n",
      "Layer (type)                 Output Shape              Param #   \n",
      "=================================================================\n",
      "dense_3 (Dense)              (None, 100)               1290100   \n",
      "_________________________________________________________________\n",
      "dense_4 (Dense)              (None, 6)                 606       \n",
      "=================================================================\n",
      "Total params: 1,290,706\n",
      "Trainable params: 1,290,706\n",
      "Non-trainable params: 0\n",
      "_________________________________________________________________\n"
     ]
    }
   ],
   "source": [
    "model = Sequential()\n",
    "x_train_flat = x_train.reshape((x_train.shape[0], x_train.shape[1]*x_train.shape[2]))\n",
    "x_train_flat = np.random.randn(x_train.shape[0], x_train.shape[1]*x_train.shape[2])\n",
    "print(x_train_flat.shape)\n",
    "model.add(Dense(100,activation='relu',input_shape=(x_train_flat.shape[1],),kernel_regularizer=l2(0.01)))\n",
    "# model.add(Conv1D(6, 3, activation='relu', input_shape=(x_train.shape[1], x_train.shape[2])))\n",
    "# model.add(MaxPooling1D(3))\n",
    "# model.add(Conv1D(12, 3, activation='relu'))\n",
    "# model.add(GlobalAveragePooling1D())\n",
    "# model.add(Dropout(0.5))\n",
    "# model.add(Dense(1, activation='sigmoid'))\n",
    "model.add(Dense(y_train.shape[1],activation='softmax'))\n",
    "\n",
    "model.compile(loss='categorical_crossentropy',\n",
    "              optimizer='adam',\n",
    "              metrics=['accuracy'])\n",
    "model.summary()"
   ]
  },
  {
   "cell_type": "code",
   "execution_count": 14,
   "metadata": {},
   "outputs": [
    {
     "name": "stdout",
     "output_type": "stream",
     "text": [
      "Train on 18 samples, validate on 18 samples\n",
      "Epoch 1/1\n"
     ]
    },
    {
     "ename": "InternalError",
     "evalue": "GPU sync failed",
     "output_type": "error",
     "traceback": [
      "\u001b[1;31m---------------------------------------------------------------------------\u001b[0m",
      "\u001b[1;31mInternalError\u001b[0m                             Traceback (most recent call last)",
      "\u001b[1;32mC:\\Program Files\\Python36\\lib\\site-packages\\tensorflow\\python\\client\\session.py\u001b[0m in \u001b[0;36m_do_call\u001b[1;34m(self, fn, *args)\u001b[0m\n\u001b[0;32m   1349\u001b[0m     \u001b[1;32mtry\u001b[0m\u001b[1;33m:\u001b[0m\u001b[1;33m\u001b[0m\u001b[0m\n\u001b[1;32m-> 1350\u001b[1;33m       \u001b[1;32mreturn\u001b[0m \u001b[0mfn\u001b[0m\u001b[1;33m(\u001b[0m\u001b[1;33m*\u001b[0m\u001b[0margs\u001b[0m\u001b[1;33m)\u001b[0m\u001b[1;33m\u001b[0m\u001b[0m\n\u001b[0m\u001b[0;32m   1351\u001b[0m     \u001b[1;32mexcept\u001b[0m \u001b[0merrors\u001b[0m\u001b[1;33m.\u001b[0m\u001b[0mOpError\u001b[0m \u001b[1;32mas\u001b[0m \u001b[0me\u001b[0m\u001b[1;33m:\u001b[0m\u001b[1;33m\u001b[0m\u001b[0m\n",
      "\u001b[1;32mC:\\Program Files\\Python36\\lib\\site-packages\\tensorflow\\python\\client\\session.py\u001b[0m in \u001b[0;36m_run_fn\u001b[1;34m(session, feed_dict, fetch_list, target_list, options, run_metadata)\u001b[0m\n\u001b[0;32m   1328\u001b[0m                                    \u001b[0mfeed_dict\u001b[0m\u001b[1;33m,\u001b[0m \u001b[0mfetch_list\u001b[0m\u001b[1;33m,\u001b[0m \u001b[0mtarget_list\u001b[0m\u001b[1;33m,\u001b[0m\u001b[1;33m\u001b[0m\u001b[0m\n\u001b[1;32m-> 1329\u001b[1;33m                                    status, run_metadata)\n\u001b[0m\u001b[0;32m   1330\u001b[0m \u001b[1;33m\u001b[0m\u001b[0m\n",
      "\u001b[1;32mC:\\Program Files\\Python36\\lib\\site-packages\\tensorflow\\python\\framework\\errors_impl.py\u001b[0m in \u001b[0;36m__exit__\u001b[1;34m(self, type_arg, value_arg, traceback_arg)\u001b[0m\n\u001b[0;32m    472\u001b[0m             \u001b[0mcompat\u001b[0m\u001b[1;33m.\u001b[0m\u001b[0mas_text\u001b[0m\u001b[1;33m(\u001b[0m\u001b[0mc_api\u001b[0m\u001b[1;33m.\u001b[0m\u001b[0mTF_Message\u001b[0m\u001b[1;33m(\u001b[0m\u001b[0mself\u001b[0m\u001b[1;33m.\u001b[0m\u001b[0mstatus\u001b[0m\u001b[1;33m.\u001b[0m\u001b[0mstatus\u001b[0m\u001b[1;33m)\u001b[0m\u001b[1;33m)\u001b[0m\u001b[1;33m,\u001b[0m\u001b[1;33m\u001b[0m\u001b[0m\n\u001b[1;32m--> 473\u001b[1;33m             c_api.TF_GetCode(self.status.status))\n\u001b[0m\u001b[0;32m    474\u001b[0m     \u001b[1;31m# Delete the underlying status object from memory otherwise it stays alive\u001b[0m\u001b[1;33m\u001b[0m\u001b[1;33m\u001b[0m\u001b[0m\n",
      "\u001b[1;31mInternalError\u001b[0m: GPU sync failed",
      "\nDuring handling of the above exception, another exception occurred:\n",
      "\u001b[1;31mInternalError\u001b[0m                             Traceback (most recent call last)",
      "\u001b[1;32m<ipython-input-14-388f0240e2cd>\u001b[0m in \u001b[0;36m<module>\u001b[1;34m\u001b[0m\n\u001b[0;32m      1\u001b[0m \u001b[1;31m# model_output = model.fit(x_train,y_train,epochs=1,batch_size=20,verbose=1,validation_data=(x_val,y_val))\u001b[0m\u001b[1;33m\u001b[0m\u001b[1;33m\u001b[0m\u001b[0m\n\u001b[0;32m      2\u001b[0m \u001b[0mx_val_flat\u001b[0m \u001b[1;33m=\u001b[0m \u001b[0mx_train\u001b[0m\u001b[1;33m.\u001b[0m\u001b[0mreshape\u001b[0m\u001b[1;33m(\u001b[0m\u001b[1;33m(\u001b[0m\u001b[0mx_val\u001b[0m\u001b[1;33m.\u001b[0m\u001b[0mshape\u001b[0m\u001b[1;33m[\u001b[0m\u001b[1;36m0\u001b[0m\u001b[1;33m]\u001b[0m\u001b[1;33m,\u001b[0m \u001b[0mx_val\u001b[0m\u001b[1;33m.\u001b[0m\u001b[0mshape\u001b[0m\u001b[1;33m[\u001b[0m\u001b[1;36m1\u001b[0m\u001b[1;33m]\u001b[0m\u001b[1;33m*\u001b[0m\u001b[0mx_val\u001b[0m\u001b[1;33m.\u001b[0m\u001b[0mshape\u001b[0m\u001b[1;33m[\u001b[0m\u001b[1;36m2\u001b[0m\u001b[1;33m]\u001b[0m\u001b[1;33m)\u001b[0m\u001b[1;33m)\u001b[0m\u001b[1;33m\u001b[0m\u001b[0m\n\u001b[1;32m----> 3\u001b[1;33m \u001b[0mmodel_output\u001b[0m \u001b[1;33m=\u001b[0m \u001b[0mmodel\u001b[0m\u001b[1;33m.\u001b[0m\u001b[0mfit\u001b[0m\u001b[1;33m(\u001b[0m\u001b[0mx_train_flat\u001b[0m\u001b[1;33m,\u001b[0m\u001b[0my_train\u001b[0m\u001b[1;33m,\u001b[0m\u001b[0mepochs\u001b[0m\u001b[1;33m=\u001b[0m\u001b[1;36m1\u001b[0m\u001b[1;33m,\u001b[0m\u001b[0mbatch_size\u001b[0m\u001b[1;33m=\u001b[0m\u001b[1;36m20\u001b[0m\u001b[1;33m,\u001b[0m\u001b[0mverbose\u001b[0m\u001b[1;33m=\u001b[0m\u001b[1;36m1\u001b[0m\u001b[1;33m,\u001b[0m\u001b[0mvalidation_data\u001b[0m\u001b[1;33m=\u001b[0m\u001b[1;33m(\u001b[0m\u001b[0mx_val_flat\u001b[0m\u001b[1;33m,\u001b[0m\u001b[0my_val\u001b[0m\u001b[1;33m)\u001b[0m\u001b[1;33m)\u001b[0m\u001b[1;33m\u001b[0m\u001b[0m\n\u001b[0m",
      "\u001b[1;32mC:\\Program Files\\Python36\\lib\\site-packages\\keras\\engine\\training.py\u001b[0m in \u001b[0;36mfit\u001b[1;34m(self, x, y, batch_size, epochs, verbose, callbacks, validation_split, validation_data, shuffle, class_weight, sample_weight, initial_epoch, steps_per_epoch, validation_steps, **kwargs)\u001b[0m\n\u001b[0;32m   1037\u001b[0m                                         \u001b[0minitial_epoch\u001b[0m\u001b[1;33m=\u001b[0m\u001b[0minitial_epoch\u001b[0m\u001b[1;33m,\u001b[0m\u001b[1;33m\u001b[0m\u001b[0m\n\u001b[0;32m   1038\u001b[0m                                         \u001b[0msteps_per_epoch\u001b[0m\u001b[1;33m=\u001b[0m\u001b[0msteps_per_epoch\u001b[0m\u001b[1;33m,\u001b[0m\u001b[1;33m\u001b[0m\u001b[0m\n\u001b[1;32m-> 1039\u001b[1;33m                                         validation_steps=validation_steps)\n\u001b[0m\u001b[0;32m   1040\u001b[0m \u001b[1;33m\u001b[0m\u001b[0m\n\u001b[0;32m   1041\u001b[0m     def evaluate(self, x=None, y=None,\n",
      "\u001b[1;32mC:\\Program Files\\Python36\\lib\\site-packages\\keras\\engine\\training_arrays.py\u001b[0m in \u001b[0;36mfit_loop\u001b[1;34m(model, f, ins, out_labels, batch_size, epochs, verbose, callbacks, val_f, val_ins, shuffle, callback_metrics, initial_epoch, steps_per_epoch, validation_steps)\u001b[0m\n\u001b[0;32m    197\u001b[0m                     \u001b[0mins_batch\u001b[0m\u001b[1;33m[\u001b[0m\u001b[0mi\u001b[0m\u001b[1;33m]\u001b[0m \u001b[1;33m=\u001b[0m \u001b[0mins_batch\u001b[0m\u001b[1;33m[\u001b[0m\u001b[0mi\u001b[0m\u001b[1;33m]\u001b[0m\u001b[1;33m.\u001b[0m\u001b[0mtoarray\u001b[0m\u001b[1;33m(\u001b[0m\u001b[1;33m)\u001b[0m\u001b[1;33m\u001b[0m\u001b[0m\n\u001b[0;32m    198\u001b[0m \u001b[1;33m\u001b[0m\u001b[0m\n\u001b[1;32m--> 199\u001b[1;33m                 \u001b[0mouts\u001b[0m \u001b[1;33m=\u001b[0m \u001b[0mf\u001b[0m\u001b[1;33m(\u001b[0m\u001b[0mins_batch\u001b[0m\u001b[1;33m)\u001b[0m\u001b[1;33m\u001b[0m\u001b[0m\n\u001b[0m\u001b[0;32m    200\u001b[0m                 \u001b[0mouts\u001b[0m \u001b[1;33m=\u001b[0m \u001b[0mto_list\u001b[0m\u001b[1;33m(\u001b[0m\u001b[0mouts\u001b[0m\u001b[1;33m)\u001b[0m\u001b[1;33m\u001b[0m\u001b[0m\n\u001b[0;32m    201\u001b[0m                 \u001b[1;32mfor\u001b[0m \u001b[0ml\u001b[0m\u001b[1;33m,\u001b[0m \u001b[0mo\u001b[0m \u001b[1;32min\u001b[0m \u001b[0mzip\u001b[0m\u001b[1;33m(\u001b[0m\u001b[0mout_labels\u001b[0m\u001b[1;33m,\u001b[0m \u001b[0mouts\u001b[0m\u001b[1;33m)\u001b[0m\u001b[1;33m:\u001b[0m\u001b[1;33m\u001b[0m\u001b[0m\n",
      "\u001b[1;32mC:\\Program Files\\Python36\\lib\\site-packages\\keras\\backend\\tensorflow_backend.py\u001b[0m in \u001b[0;36m__call__\u001b[1;34m(self, inputs)\u001b[0m\n\u001b[0;32m   2695\u001b[0m \u001b[1;33m\u001b[0m\u001b[0m\n\u001b[0;32m   2696\u001b[0m     \u001b[1;32mdef\u001b[0m \u001b[0m__call__\u001b[0m\u001b[1;33m(\u001b[0m\u001b[0mself\u001b[0m\u001b[1;33m,\u001b[0m \u001b[0minputs\u001b[0m\u001b[1;33m)\u001b[0m\u001b[1;33m:\u001b[0m\u001b[1;33m\u001b[0m\u001b[0m\n\u001b[1;32m-> 2697\u001b[1;33m         \u001b[1;32mif\u001b[0m \u001b[0mhasattr\u001b[0m\u001b[1;33m(\u001b[0m\u001b[0mget_session\u001b[0m\u001b[1;33m(\u001b[0m\u001b[1;33m)\u001b[0m\u001b[1;33m,\u001b[0m \u001b[1;34m'_make_callable_from_options'\u001b[0m\u001b[1;33m)\u001b[0m\u001b[1;33m:\u001b[0m\u001b[1;33m\u001b[0m\u001b[0m\n\u001b[0m\u001b[0;32m   2698\u001b[0m             \u001b[1;32mif\u001b[0m \u001b[0mpy_any\u001b[0m\u001b[1;33m(\u001b[0m\u001b[0mis_sparse\u001b[0m\u001b[1;33m(\u001b[0m\u001b[0mx\u001b[0m\u001b[1;33m)\u001b[0m \u001b[1;32mfor\u001b[0m \u001b[0mx\u001b[0m \u001b[1;32min\u001b[0m \u001b[0mself\u001b[0m\u001b[1;33m.\u001b[0m\u001b[0minputs\u001b[0m\u001b[1;33m)\u001b[0m\u001b[1;33m:\u001b[0m\u001b[1;33m\u001b[0m\u001b[0m\n\u001b[0;32m   2699\u001b[0m                 \u001b[1;32mif\u001b[0m \u001b[0mpy_any\u001b[0m\u001b[1;33m(\u001b[0m\u001b[0mis_tensor\u001b[0m\u001b[1;33m(\u001b[0m\u001b[0mx\u001b[0m\u001b[1;33m)\u001b[0m \u001b[1;32mfor\u001b[0m \u001b[0mx\u001b[0m \u001b[1;32min\u001b[0m \u001b[0minputs\u001b[0m\u001b[1;33m)\u001b[0m\u001b[1;33m:\u001b[0m\u001b[1;33m\u001b[0m\u001b[0m\n",
      "\u001b[1;32mC:\\Program Files\\Python36\\lib\\site-packages\\keras\\backend\\tensorflow_backend.py\u001b[0m in \u001b[0;36mget_session\u001b[1;34m()\u001b[0m\n\u001b[0;32m    197\u001b[0m                 \u001b[1;31m# not already marked as initialized.\u001b[0m\u001b[1;33m\u001b[0m\u001b[1;33m\u001b[0m\u001b[0m\n\u001b[0;32m    198\u001b[0m                 is_initialized = session.run(\n\u001b[1;32m--> 199\u001b[1;33m                     [tf.is_variable_initialized(v) for v in candidate_vars])\n\u001b[0m\u001b[0;32m    200\u001b[0m                 \u001b[0muninitialized_vars\u001b[0m \u001b[1;33m=\u001b[0m \u001b[1;33m[\u001b[0m\u001b[1;33m]\u001b[0m\u001b[1;33m\u001b[0m\u001b[0m\n\u001b[0;32m    201\u001b[0m                 \u001b[1;32mfor\u001b[0m \u001b[0mflag\u001b[0m\u001b[1;33m,\u001b[0m \u001b[0mv\u001b[0m \u001b[1;32min\u001b[0m \u001b[0mzip\u001b[0m\u001b[1;33m(\u001b[0m\u001b[0mis_initialized\u001b[0m\u001b[1;33m,\u001b[0m \u001b[0mcandidate_vars\u001b[0m\u001b[1;33m)\u001b[0m\u001b[1;33m:\u001b[0m\u001b[1;33m\u001b[0m\u001b[0m\n",
      "\u001b[1;32mC:\\Program Files\\Python36\\lib\\site-packages\\tensorflow\\python\\client\\session.py\u001b[0m in \u001b[0;36mrun\u001b[1;34m(self, fetches, feed_dict, options, run_metadata)\u001b[0m\n\u001b[0;32m    893\u001b[0m     \u001b[1;32mtry\u001b[0m\u001b[1;33m:\u001b[0m\u001b[1;33m\u001b[0m\u001b[0m\n\u001b[0;32m    894\u001b[0m       result = self._run(None, fetches, feed_dict, options_ptr,\n\u001b[1;32m--> 895\u001b[1;33m                          run_metadata_ptr)\n\u001b[0m\u001b[0;32m    896\u001b[0m       \u001b[1;32mif\u001b[0m \u001b[0mrun_metadata\u001b[0m\u001b[1;33m:\u001b[0m\u001b[1;33m\u001b[0m\u001b[0m\n\u001b[0;32m    897\u001b[0m         \u001b[0mproto_data\u001b[0m \u001b[1;33m=\u001b[0m \u001b[0mtf_session\u001b[0m\u001b[1;33m.\u001b[0m\u001b[0mTF_GetBuffer\u001b[0m\u001b[1;33m(\u001b[0m\u001b[0mrun_metadata_ptr\u001b[0m\u001b[1;33m)\u001b[0m\u001b[1;33m\u001b[0m\u001b[0m\n",
      "\u001b[1;32mC:\\Program Files\\Python36\\lib\\site-packages\\tensorflow\\python\\client\\session.py\u001b[0m in \u001b[0;36m_run\u001b[1;34m(self, handle, fetches, feed_dict, options, run_metadata)\u001b[0m\n\u001b[0;32m   1126\u001b[0m     \u001b[1;32mif\u001b[0m \u001b[0mfinal_fetches\u001b[0m \u001b[1;32mor\u001b[0m \u001b[0mfinal_targets\u001b[0m \u001b[1;32mor\u001b[0m \u001b[1;33m(\u001b[0m\u001b[0mhandle\u001b[0m \u001b[1;32mand\u001b[0m \u001b[0mfeed_dict_tensor\u001b[0m\u001b[1;33m)\u001b[0m\u001b[1;33m:\u001b[0m\u001b[1;33m\u001b[0m\u001b[0m\n\u001b[0;32m   1127\u001b[0m       results = self._do_run(handle, final_targets, final_fetches,\n\u001b[1;32m-> 1128\u001b[1;33m                              feed_dict_tensor, options, run_metadata)\n\u001b[0m\u001b[0;32m   1129\u001b[0m     \u001b[1;32melse\u001b[0m\u001b[1;33m:\u001b[0m\u001b[1;33m\u001b[0m\u001b[0m\n\u001b[0;32m   1130\u001b[0m       \u001b[0mresults\u001b[0m \u001b[1;33m=\u001b[0m \u001b[1;33m[\u001b[0m\u001b[1;33m]\u001b[0m\u001b[1;33m\u001b[0m\u001b[0m\n",
      "\u001b[1;32mC:\\Program Files\\Python36\\lib\\site-packages\\tensorflow\\python\\client\\session.py\u001b[0m in \u001b[0;36m_do_run\u001b[1;34m(self, handle, target_list, fetch_list, feed_dict, options, run_metadata)\u001b[0m\n\u001b[0;32m   1342\u001b[0m     \u001b[1;32mif\u001b[0m \u001b[0mhandle\u001b[0m \u001b[1;32mis\u001b[0m \u001b[1;32mNone\u001b[0m\u001b[1;33m:\u001b[0m\u001b[1;33m\u001b[0m\u001b[0m\n\u001b[0;32m   1343\u001b[0m       return self._do_call(_run_fn, self._session, feeds, fetches, targets,\n\u001b[1;32m-> 1344\u001b[1;33m                            options, run_metadata)\n\u001b[0m\u001b[0;32m   1345\u001b[0m     \u001b[1;32melse\u001b[0m\u001b[1;33m:\u001b[0m\u001b[1;33m\u001b[0m\u001b[0m\n\u001b[0;32m   1346\u001b[0m       \u001b[1;32mreturn\u001b[0m \u001b[0mself\u001b[0m\u001b[1;33m.\u001b[0m\u001b[0m_do_call\u001b[0m\u001b[1;33m(\u001b[0m\u001b[0m_prun_fn\u001b[0m\u001b[1;33m,\u001b[0m \u001b[0mself\u001b[0m\u001b[1;33m.\u001b[0m\u001b[0m_session\u001b[0m\u001b[1;33m,\u001b[0m \u001b[0mhandle\u001b[0m\u001b[1;33m,\u001b[0m \u001b[0mfeeds\u001b[0m\u001b[1;33m,\u001b[0m \u001b[0mfetches\u001b[0m\u001b[1;33m)\u001b[0m\u001b[1;33m\u001b[0m\u001b[0m\n",
      "\u001b[1;32mC:\\Program Files\\Python36\\lib\\site-packages\\tensorflow\\python\\client\\session.py\u001b[0m in \u001b[0;36m_do_call\u001b[1;34m(self, fn, *args)\u001b[0m\n\u001b[0;32m   1361\u001b[0m         \u001b[1;32mexcept\u001b[0m \u001b[0mKeyError\u001b[0m\u001b[1;33m:\u001b[0m\u001b[1;33m\u001b[0m\u001b[0m\n\u001b[0;32m   1362\u001b[0m           \u001b[1;32mpass\u001b[0m\u001b[1;33m\u001b[0m\u001b[0m\n\u001b[1;32m-> 1363\u001b[1;33m       \u001b[1;32mraise\u001b[0m \u001b[0mtype\u001b[0m\u001b[1;33m(\u001b[0m\u001b[0me\u001b[0m\u001b[1;33m)\u001b[0m\u001b[1;33m(\u001b[0m\u001b[0mnode_def\u001b[0m\u001b[1;33m,\u001b[0m \u001b[0mop\u001b[0m\u001b[1;33m,\u001b[0m \u001b[0mmessage\u001b[0m\u001b[1;33m)\u001b[0m\u001b[1;33m\u001b[0m\u001b[0m\n\u001b[0m\u001b[0;32m   1364\u001b[0m \u001b[1;33m\u001b[0m\u001b[0m\n\u001b[0;32m   1365\u001b[0m   \u001b[1;32mdef\u001b[0m \u001b[0m_extend_graph\u001b[0m\u001b[1;33m(\u001b[0m\u001b[0mself\u001b[0m\u001b[1;33m)\u001b[0m\u001b[1;33m:\u001b[0m\u001b[1;33m\u001b[0m\u001b[0m\n",
      "\u001b[1;31mInternalError\u001b[0m: GPU sync failed"
     ]
    }
   ],
   "source": [
    "# model_output = model.fit(x_train,y_train,epochs=1,batch_size=20,verbose=1,validation_data=(x_val,y_val))\n",
    "x_val_flat = x_train.reshape((x_val.shape[0], x_val.shape[1]*x_val.shape[2]))\n",
    "model_output = model.fit(x_train_flat,y_train,epochs=1,batch_size=20,verbose=1,validation_data=(x_val_flat,y_val))"
   ]
  },
  {
   "cell_type": "code",
   "execution_count": 11,
   "metadata": {},
   "outputs": [
    {
     "name": "stderr",
     "output_type": "stream",
     "text": [
      "C:\\Program Files\\Python36\\lib\\site-packages\\ipykernel_launcher.py:20: UserWarning: Update your `Conv1D` call to the Keras 2 API: `Conv1D(10, 4, activation=\"relu\", padding=\"same\")`\n",
      "C:\\Program Files\\Python36\\lib\\site-packages\\ipykernel_launcher.py:25: UserWarning: Update your `Conv1D` call to the Keras 2 API: `Conv1D(10, 4, activation=\"relu\", padding=\"same\")`\n",
      "C:\\Program Files\\Python36\\lib\\site-packages\\ipykernel_launcher.py:29: UserWarning: Update your `Conv1D` call to the Keras 2 API: `Conv1D(20, 4, activation=\"relu\", padding=\"same\")`\n",
      "C:\\Program Files\\Python36\\lib\\site-packages\\ipykernel_launcher.py:46: UserWarning: Update your `Model` call to the Keras 2 API: `Model(inputs=Tensor(\"in..., outputs=Tensor(\"de...)`\n"
     ]
    }
   ],
   "source": [
    "nb_filters_1=10\n",
    "nb_filters_2=20\n",
    "lenght_filters=4\n",
    "pool_size_1=4\n",
    "pool_size_2=2\n",
    "dropout_prob_1=0.5\n",
    "dropout_prob_2=0.5\n",
    "# frames=2580\n",
    "# frequency=128\n",
    "frames = x_train.shape[1]\n",
    "frequency = x_train.shape[2]\n",
    "dense_size=100\n",
    "nb_classes= y_train.shape[1]\n",
    "\n",
    "\n",
    "\n",
    "input_placeholder = Input(shape=(frames, frequency))\n",
    "\n",
    "conv_1 = Conv1D(nb_filters_1, lenght_filters,\n",
    "                activation='relu', border_mode='same')(\n",
    "            input_placeholder)\n",
    "pool_1 = MaxPooling1D(pool_size_1)(conv_1)\n",
    "\n",
    "conv_2 = Conv1D(nb_filters_1, lenght_filters,\n",
    "                border_mode='same', activation='relu')(pool_1)\n",
    "pool_2 = MaxPooling1D(pool_size_1)(conv_2)\n",
    "\n",
    "conv_3 = Conv1D(nb_filters_2, lenght_filters,\n",
    "                border_mode='same', activation='relu')(pool_2)\n",
    "pool_3 = MaxPooling1D(pool_size_2)(conv_3)\n",
    "\n",
    "global_mean = GlobalAveragePooling1D()(pool_3)\n",
    "global_max = GlobalMaxPooling1D()(pool_3)\n",
    "\n",
    "# concat = merge([global_mean, global_max], mode='concat',\n",
    "#                concat_axis=-1)\n",
    "concat = Add()([global_mean, global_max])\n",
    "\n",
    "hidden = Dense(dense_size, activation='relu')(concat)\n",
    "drop_1 = Dropout(dropout_prob_1)(hidden)\n",
    "hidden_2 = Dense(dense_size, activation='relu')(drop_1)\n",
    "drop_2 = Dropout(dropout_prob_1)(hidden_2)\n",
    "\n",
    "output = Dense(nb_classes, activation='softmax')(drop_2)\n",
    "\n",
    "model = Model(input=input_placeholder, output=output)\n",
    "\n",
    "model.compile(loss='categorical_crossentropy',\n",
    "              optimizer='adam',\n",
    "              metrics=['accuracy'])\n",
    "# self.model = model"
   ]
  },
  {
   "cell_type": "code",
   "execution_count": null,
   "metadata": {},
   "outputs": [
    {
     "name": "stderr",
     "output_type": "stream",
     "text": [
      "C:\\Program Files\\Python36\\lib\\site-packages\\ipykernel_launcher.py:4: UserWarning: The `nb_epoch` argument in `fit` has been renamed `epochs`.\n",
      "  after removing the cwd from sys.path.\n"
     ]
    },
    {
     "name": "stdout",
     "output_type": "stream",
     "text": [
      "Train on 9 samples, validate on 9 samples\n",
      "Epoch 1/1\n"
     ]
    }
   ],
   "source": [
    "nb_epoch = 1\n",
    "batch_size = 20\n",
    "model.fit(x_train, y_train, batch_size=batch_size, epoch=nb_epoch,\n",
    "                       validation_data=(x_val,y_val))"
   ]
  },
  {
   "cell_type": "code",
   "execution_count": null,
   "metadata": {},
   "outputs": [],
   "source": []
  },
  {
   "cell_type": "code",
   "execution_count": 2,
   "metadata": {},
   "outputs": [
    {
     "name": "stderr",
     "output_type": "stream",
     "text": [
      "C:\\Program Files\\Python36\\lib\\site-packages\\h5py\\__init__.py:36: FutureWarning: Conversion of the second argument of issubdtype from `float` to `np.floating` is deprecated. In future, it will be treated as `np.float64 == np.dtype(float).type`.\n",
      "  from ._conv import register_converters as _register_converters\n",
      "Using TensorFlow backend.\n"
     ]
    },
    {
     "ename": "NameError",
     "evalue": "name 'data_x' is not defined",
     "output_type": "error",
     "traceback": [
      "\u001b[1;31m---------------------------------------------------------------------------\u001b[0m",
      "\u001b[1;31mNameError\u001b[0m                                 Traceback (most recent call last)",
      "\u001b[1;32m<ipython-input-2-955dc3637cf8>\u001b[0m in \u001b[0;36m<module>\u001b[1;34m\u001b[0m\n\u001b[0;32m      9\u001b[0m \u001b[1;32mimport\u001b[0m \u001b[0mnumpy\u001b[0m \u001b[1;32mas\u001b[0m \u001b[0mnp\u001b[0m\u001b[1;33m\u001b[0m\u001b[0m\n\u001b[0;32m     10\u001b[0m \u001b[1;33m\u001b[0m\u001b[0m\n\u001b[1;32m---> 11\u001b[1;33m \u001b[0mprint\u001b[0m\u001b[1;33m(\u001b[0m\u001b[1;34m'x shape '\u001b[0m\u001b[1;33m,\u001b[0m \u001b[0mdata_x\u001b[0m\u001b[1;33m.\u001b[0m\u001b[0mshape\u001b[0m\u001b[1;33m)\u001b[0m\u001b[1;33m\u001b[0m\u001b[0m\n\u001b[0m\u001b[0;32m     12\u001b[0m \u001b[0mprint\u001b[0m\u001b[1;33m(\u001b[0m\u001b[1;34m'y shape '\u001b[0m\u001b[1;33m,\u001b[0m \u001b[0mdata_y\u001b[0m\u001b[1;33m.\u001b[0m\u001b[0mshape\u001b[0m\u001b[1;33m)\u001b[0m\u001b[1;33m\u001b[0m\u001b[0m\n\u001b[0;32m     13\u001b[0m \u001b[1;33m\u001b[0m\u001b[0m\n",
      "\u001b[1;31mNameError\u001b[0m: name 'data_x' is not defined"
     ]
    }
   ],
   "source": [
    "# Normal MLP\n",
    "\n",
    "x_train, x_test, y_train, y_test = train_test_split(data_x, data_y, test_size=0.10, random_state=0)\n",
    "# print(x_train.shape, x_test.shape)\n",
    "# print(y_test)\n",
    "\n",
    "x_train, x_val, y_train, y_val = train_test_split(x_train, y_train, test_size=0.50, random_state=0)\n",
    "\n",
    "input_dim = x_train.shape[1]\n",
    "out_dim = y_train.shape[1]\n",
    "\n",
    "#define a sequentail Model\n",
    "model = Sequential()\n",
    "\n",
    "#Hidden Layer-1\n",
    "model.add(Dense(100,activation='relu',input_dim=input_dim,kernel_regularizer=l2(0.01)))\n",
    "# model.add(Dropout(0.3, noise_shape=None, seed=None))\n",
    "\n",
    "#Hidden Layer-2\n",
    "model.add(Dense(100,activation = 'relu',kernel_regularizer=l2(0.01)))\n",
    "# model.add(Dropout(0.3, noise_shape=None, seed=None))\n",
    "\n",
    "#Output layer\n",
    "model.add(Dense(out_dim,activation='sigmoid'))"
   ]
  },
  {
   "cell_type": "code",
   "execution_count": 23,
   "metadata": {},
   "outputs": [],
   "source": [
    "model.compile(loss='categorical_crossentropy',optimizer='adam',metrics=['accuracy'])"
   ]
  },
  {
   "cell_type": "code",
   "execution_count": 1,
   "metadata": {},
   "outputs": [
    {
     "ename": "NameError",
     "evalue": "name 'model' is not defined",
     "output_type": "error",
     "traceback": [
      "\u001b[1;31m---------------------------------------------------------------------------\u001b[0m",
      "\u001b[1;31mNameError\u001b[0m                                 Traceback (most recent call last)",
      "\u001b[1;32m<ipython-input-1-5f15418b3570>\u001b[0m in \u001b[0;36m<module>\u001b[1;34m\u001b[0m\n\u001b[1;32m----> 1\u001b[1;33m \u001b[0mmodel\u001b[0m\u001b[1;33m.\u001b[0m\u001b[0msummary\u001b[0m\u001b[1;33m(\u001b[0m\u001b[1;33m)\u001b[0m\u001b[1;33m\u001b[0m\u001b[0m\n\u001b[0m",
      "\u001b[1;31mNameError\u001b[0m: name 'model' is not defined"
     ]
    }
   ],
   "source": [
    "model.summary()"
   ]
  },
  {
   "cell_type": "code",
   "execution_count": null,
   "metadata": {
    "scrolled": true
   },
   "outputs": [
    {
     "name": "stdout",
     "output_type": "stream",
     "text": [
      "Train on 1 samples, validate on 1 samples\n",
      "Epoch 1/100\n"
     ]
    }
   ],
   "source": [
    "#FIT MLP\n",
    "model_output = model.fit(x_train,y_train,epochs=100,batch_size=20,verbose=1,validation_data=(x_val,y_val),)"
   ]
  },
  {
   "cell_type": "code",
   "execution_count": 156,
   "metadata": {},
   "outputs": [
    {
     "name": "stdout",
     "output_type": "stream",
     "text": [
      "100/100 [==============================] - 0s 99us/step\n"
     ]
    },
    {
     "data": {
      "text/plain": [
       "[2.1803759574890136, 0.875]"
      ]
     },
     "execution_count": 156,
     "metadata": {},
     "output_type": "execute_result"
    }
   ],
   "source": [
    "model.evaluate(x=x_test, y=y_test)"
   ]
  },
  {
   "cell_type": "code",
   "execution_count": 175,
   "metadata": {},
   "outputs": [
    {
     "name": "stdout",
     "output_type": "stream",
     "text": [
      "[[0 0 1 0 0 3 0 0]\n",
      " [0 0 6 3 0 4 0 0]\n",
      " [0 0 5 5 0 6 0 0]\n",
      " [0 0 7 8 0 2 0 0]\n",
      " [0 0 2 1 0 1 0 0]\n",
      " [0 0 6 9 0 6 0 0]\n",
      " [0 0 4 3 0 4 0 0]\n",
      " [0 0 6 6 0 2 0 0]]\n"
     ]
    }
   ],
   "source": [
    "import sklearn.metrics as metrics\n",
    "y_pred = model.predict(x_test)\n",
    "matrix = metrics.confusion_matrix(y_test.argmax(axis=1), y_pred.argmax(axis=1))\n",
    "print(matrix)"
   ]
  },
  {
   "cell_type": "code",
   "execution_count": 168,
   "metadata": {},
   "outputs": [
    {
     "data": {
      "text/plain": [
       "<function matplotlib.pyplot.show(*args, **kw)>"
      ]
     },
     "execution_count": 168,
     "metadata": {},
     "output_type": "execute_result"
    },
    {
     "data": {
      "image/png": "[encoded data removed]",
      "text/plain": [
       "<matplotlib.figure.Figure at 0x22b8ed9d9b0>"
      ]
     },
     "metadata": {
      "needs_background": "light"
     },
     "output_type": "display_data"
    }
   ],
   "source": [
    "plt.scatter(data_x[:,0], data_x[:,1], c=np.argmax(data_y, axis=1))\n",
    "plt.show"
   ]
  },
  {
   "cell_type": "code",
   "execution_count": null,
   "metadata": {},
   "outputs": [],
   "source": [
    "# CNN\n",
    "\n",
    "x_train, x_test, y_train, y_test = train_test_split(data_x, data_y, test_size=0.10, random_state=0)\n",
    "# print(x_train.shape, x_test.shape)\n",
    "# print(y_test)\n",
    "\n",
    "x_train, x_val, y_train, y_val = train_test_split(x_train, y_train, test_size=0.50, random_state=0)\n",
    "\n",
    "input_dim = x_train.shape[1]\n",
    "out_dim = y_train.shape[1]\n",
    "\n",
    "x_train, y_train = x_train[np.newaxis],y_train[np.newaxis]\n",
    "x_val, y_val = x_val[np.newaxis],y_val[np.newaxis]\n",
    "x_test, y_test = x_test[np.newaxis],y_test[np.newaxis]\n",
    "\n",
    "\n",
    "#define a sequentail Model\n",
    "model = Sequential()\n",
    "\n",
    "model.add(Conv1D(filters=40,\n",
    "                 kernel_size=25,\n",
    "                 input_shape=(x.shape[1:2],),\n",
    "                 activation='relu',\n",
    "                 kernel_regularizer=l2(5e-6),\n",
    "                 strides=1))\n",
    "\n",
    "#Hidden Layer-1\n",
    "# model.add(Dense(100,activation='relu',input_dim=input_dim,kernel_regularizer=l2(0.01)))\n",
    "# model.add(Dropout(0.3, noise_shape=None, seed=None))\n",
    "\n",
    "#Hidden Layer-2\n",
    "model.add(Dense(100,activation = 'relu',kernel_regularizer=l2(0.01)))\n",
    "# model.add(Dropout(0.3, noise_shape=None, seed=None))\n",
    "\n",
    "#Output layer\n",
    "model.add(Dense(out_dim,activation='softmax'))"
   ]
  },
  {
   "cell_type": "code",
   "execution_count": null,
   "metadata": {},
   "outputs": [],
   "source": [
    "model.compile(loss='categorical_crossentropy',optimizer='adam',metrics=['accuracy'])"
   ]
  },
  {
   "cell_type": "code",
   "execution_count": null,
   "metadata": {},
   "outputs": [],
   "source": [
    "model.summary()"
   ]
  },
  {
   "cell_type": "code",
   "execution_count": null,
   "metadata": {},
   "outputs": [],
   "source": [
    "# FIT CNN\n",
    "model_output = model.fit(x_train,y_train,epochs=1,batch_size=20,verbose=1,validation_data=(x_val,y_val),)"
   ]
  },
  {
   "cell_type": "code",
   "execution_count": null,
   "metadata": {},
   "outputs": [],
   "source": [
    "model.evaluate(x=x_test, y=y_test)"
   ]
  },
  {
   "cell_type": "code",
   "execution_count": 5,
   "metadata": {},
   "outputs": [
    {
     "name": "stdout",
     "output_type": "stream",
     "text": [
      "(2643934,)\n",
      "sound sample  [1635 3217 1519 3200 2149]\n",
      "2\n",
      "sound wav sample  [1635 3217 1519 3200 2149]\n",
      "[-3145948.79812563+7232473.86236149j -2007257.38279631+7235025.50158188j\n",
      "  9752418.35159211-8812223.27890449j -4263682.01292385-5106058.85823473j\n",
      "  -885816.76131517+7886045.05582011j]\n"
     ]
    },
    {
     "data": {
      "image/png": "[encoded data removed]",
      "text/plain": [
       "<matplotlib.figure.Figure at 0x1f4529793c8>"
      ]
     },
     "metadata": {
      "needs_background": "light"
     },
     "output_type": "display_data"
    }
   ],
   "source": [
    "# %matplotlib inline\n",
    "# from pydub import AudioSegment\n",
    "# import matplotlib.pyplot as plt\n",
    "# import math\n",
    "# import numpy as np\n",
    "# #import pydub\n",
    "\n",
    "# #pydub.AudioSegment.converter = r\"C:/Users/Peter/Downloads/Installers/ffmpeg-20190202-b429c86-win64-static/bin/ffmpeg.exe\"\n",
    "# sound = AudioSegment.from_mp3(r\"fma_small/000/000002.mp3\")\n",
    "# # sound.set_channels(1)\n",
    "\n",
    "# #[left, right] = sound.split_to_mono() not necessary since set them\n",
    "# #sound = left\n",
    "# numChannels = sound.channels\n",
    "# frameRate = sound.frame_rate\n",
    "\n",
    "# soundAr = np.array(sound.get_array_of_samples())\n",
    "# #print(soundAr.shape[0]/numChannels, numChannels)\n",
    "# print(soundAr.shape)\n",
    "# print('sound sample ', soundAr[50000:50005])\n",
    "# print(numChannels)\n",
    "\n",
    "# sound = sound._spawn(data=soundAr)\n",
    "\n",
    "# sound.export(\"file.wav\", format=\"wav\")\n",
    "# sound = AudioSegment.from_wav(r\"file.wav\")\n",
    "# soundAr = np.array(sound.get_array_of_samples())\n",
    "# print('sound wav sample ', soundAr[50000:50005])\n",
    "\n",
    "\n",
    "# #soundAr.reshape(math.floor(soundAr.shape[0]/numChannels), numChannels, order='F')\n",
    "\n",
    "# '''\n",
    "# normVal = np.linalg.norm(soundAr)\n",
    "# print(soundAr[50000:50005])\n",
    "# print(soundAr.shape)\n",
    "# soundAr = soundAr / normVal\n",
    "# print(soundAr[50000:50005])\n",
    "# print(soundAr.shape)\n",
    "# soundAr = np.floor(soundAr * normVal)\n",
    "# soundAr = soundAr.astype(int)\n",
    "# print(soundAr[50000:50005])\n",
    "# print(soundAr.shape)\n",
    "# '''\n",
    "# x = np.fft.fft(soundAr)\n",
    "# print(x[50000:50005])\n",
    "\n",
    "# hist, bins = np.histogram(x, bins=50)\n",
    "# width = 0.7 * (bins[1] - bins[0])\n",
    "# center = (bins[:-1] + bins[1:]) / 2\n",
    "# plt.bar(center, hist, align='center', width=width)\n",
    "# plt.show()\n",
    "# sound = sound._spawn(data=soundAr)\n",
    "\n",
    "# sound.export(\"file.wav\", format=\"wav\")\n",
    "# f = open('file.wav')\n",
    "# f.close()"
   ]
  },
  {
   "cell_type": "code",
   "execution_count": null,
   "metadata": {},
   "outputs": [],
   "source": []
  },
  {
   "cell_type": "code",
   "execution_count": 182,
   "metadata": {},
   "outputs": [
    {
     "ename": "TypeError",
     "evalue": "cannot perform reduce with flexible type",
     "output_type": "error",
     "traceback": [
      "\u001b[1;31m---------------------------------------------------------------------------\u001b[0m",
      "\u001b[1;31mTypeError\u001b[0m                                 Traceback (most recent call last)",
      "\u001b[1;32m<ipython-input-182-36781dfae579>\u001b[0m in \u001b[0;36m<module>\u001b[1;34m\u001b[0m\n\u001b[1;32m----> 1\u001b[1;33m \u001b[0mprint\u001b[0m\u001b[1;33m(\u001b[0m\u001b[0mnp\u001b[0m\u001b[1;33m.\u001b[0m\u001b[0msum\u001b[0m\u001b[1;33m(\u001b[0m\u001b[0mdata_y\u001b[0m\u001b[1;33m,\u001b[0m \u001b[0maxis\u001b[0m\u001b[1;33m=\u001b[0m\u001b[1;36m0\u001b[0m\u001b[1;33m)\u001b[0m\u001b[1;33m)\u001b[0m\u001b[1;33m\u001b[0m\u001b[0m\n\u001b[0m\u001b[0;32m      2\u001b[0m \u001b[1;31m# print(np.argmax(data_y, axis=1))\u001b[0m\u001b[1;33m\u001b[0m\u001b[1;33m\u001b[0m\u001b[0m\n",
      "\u001b[1;32mC:\\Program Files\\Python36\\lib\\site-packages\\numpy\\core\\fromnumeric.py\u001b[0m in \u001b[0;36msum\u001b[1;34m(a, axis, dtype, out, keepdims, initial)\u001b[0m\n\u001b[0;32m   2074\u001b[0m \u001b[1;33m\u001b[0m\u001b[0m\n\u001b[0;32m   2075\u001b[0m     return _wrapreduction(a, np.add, 'sum', axis, dtype, out, keepdims=keepdims,\n\u001b[1;32m-> 2076\u001b[1;33m                           initial=initial)\n\u001b[0m\u001b[0;32m   2077\u001b[0m \u001b[1;33m\u001b[0m\u001b[0m\n\u001b[0;32m   2078\u001b[0m \u001b[1;33m\u001b[0m\u001b[0m\n",
      "\u001b[1;32mC:\\Program Files\\Python36\\lib\\site-packages\\numpy\\core\\fromnumeric.py\u001b[0m in \u001b[0;36m_wrapreduction\u001b[1;34m(obj, ufunc, method, axis, dtype, out, **kwargs)\u001b[0m\n\u001b[0;32m     84\u001b[0m                 \u001b[1;32mreturn\u001b[0m \u001b[0mreduction\u001b[0m\u001b[1;33m(\u001b[0m\u001b[0maxis\u001b[0m\u001b[1;33m=\u001b[0m\u001b[0maxis\u001b[0m\u001b[1;33m,\u001b[0m \u001b[0mout\u001b[0m\u001b[1;33m=\u001b[0m\u001b[0mout\u001b[0m\u001b[1;33m,\u001b[0m \u001b[1;33m**\u001b[0m\u001b[0mpasskwargs\u001b[0m\u001b[1;33m)\u001b[0m\u001b[1;33m\u001b[0m\u001b[0m\n\u001b[0;32m     85\u001b[0m \u001b[1;33m\u001b[0m\u001b[0m\n\u001b[1;32m---> 86\u001b[1;33m     \u001b[1;32mreturn\u001b[0m \u001b[0mufunc\u001b[0m\u001b[1;33m.\u001b[0m\u001b[0mreduce\u001b[0m\u001b[1;33m(\u001b[0m\u001b[0mobj\u001b[0m\u001b[1;33m,\u001b[0m \u001b[0maxis\u001b[0m\u001b[1;33m,\u001b[0m \u001b[0mdtype\u001b[0m\u001b[1;33m,\u001b[0m \u001b[0mout\u001b[0m\u001b[1;33m,\u001b[0m \u001b[1;33m**\u001b[0m\u001b[0mpasskwargs\u001b[0m\u001b[1;33m)\u001b[0m\u001b[1;33m\u001b[0m\u001b[0m\n\u001b[0m\u001b[0;32m     87\u001b[0m \u001b[1;33m\u001b[0m\u001b[0m\n\u001b[0;32m     88\u001b[0m \u001b[1;33m\u001b[0m\u001b[0m\n",
      "\u001b[1;31mTypeError\u001b[0m: cannot perform reduce with flexible type"
     ]
    }
   ],
   "source": [
    "\n",
    "\n",
    "# Deal with the class imbalances by up sampling\n",
    "\n",
    "classes_amount = np.sum(data_y, axis=0)\n",
    "print(classes_amount)\n",
    "max_num_single_class = np.max(np.sum(data_y, axis=0))\n",
    "num_classes = len(np.sum(data_y, axis=0))\n",
    "# print(np.argmax(data_y, axis=1))\n",
    "data_x_before_balance = deepcopy(data_x)\n",
    "\n",
    "for class_num in num_classes:\n",
    "    n = classes_amount[class_num]\n",
    "    gen_ind = data_y[:, class_num] == 1\n",
    "    inst_of_class = data_x_before_balance[gen_ind, :]\n",
    "    for i in range(max_num_single_class - n):\n",
    "        # Add samples until the class is balanced\n",
    "        #data_x.append(inst_of_class[np.randint(low=0, high=n, size=1),:])\n",
    "        data_x = numpy.vstack([data_x, inst_of_class[np.randint(low=0, high=n, size=1),:]])\n"
   ]
  }
 ],
 "metadata": {
  "kernelspec": {
   "display_name": "Python 3",
   "language": "python",
   "name": "python3"
  },
  "language_info": {
   "codemirror_mode": {
    "name": "ipython",
    "version": 3
   },
   "file_extension": ".py",
   "mimetype": "text/x-python",
   "name": "python",
   "nbconvert_exporter": "python",
   "pygments_lexer": "ipython3",
   "version": "3.6.2"
  }
 },
 "nbformat": 4,
 "nbformat_minor": 2
}
