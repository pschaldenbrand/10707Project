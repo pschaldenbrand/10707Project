{
 "cells": [
  {
   "cell_type": "markdown",
   "metadata": {},
   "source": [
    "# Convert the wav files into spectrograms"
   ]
  },
  {
   "cell_type": "code",
   "execution_count": null,
   "metadata": {},
   "outputs": [],
   "source": [
    "# from matplotlib.colors import Normalize\n",
    "import numpy as np\n",
    "from copy import deepcopy\n",
    "\n",
    "import scipy.io.wavfile\n",
    "from scipy.io.wavfile import read\n",
    "from scipy import signal"
   ]
  },
  {
   "cell_type": "code",
   "execution_count": null,
   "metadata": {},
   "outputs": [],
   "source": [
    "# Directory of where to find the wav files\n",
    "rootdir = 'wav'\n",
    "\n",
    "output_x_name = 'data_x_spectrum'\n",
    "output_y_name = 'data_y_spectrum'"
   ]
  },
  {
   "cell_type": "code",
   "execution_count": null,
   "metadata": {},
   "outputs": [],
   "source": [
    "# x, sr = librosa.load(filename, sr=None, mono=True)\n",
    "# mel = librosa.feature.melspectrogram(y=x, sr=sr, hop_length=hop_length)\n",
    "# log_mel = np.transpose(librosa.logamplitude(mel))"
   ]
  },
  {
   "cell_type": "code",
   "execution_count": null,
   "metadata": {},
   "outputs": [],
   "source": [
    "MAX_SONGS = 8000\n",
    "\n",
    "numSongs = 0\n",
    "\n",
    "\n",
    "dim = 1000 # length of the samples\n",
    "offset = 2000 # start getting song values at this time\n",
    "\n",
    "data_x = np.zeros((MAX_SONGS, 129, dim))\n",
    "data_y = []\n",
    "\n",
    "for subdir, dirs, files in os.walk(rootdir):\n",
    "    for file in files:\n",
    "        try:\n",
    "            if not file.endswith(\".wav\"):\n",
    "                continue\n",
    "            if (numSongs %100 == 0):\n",
    "                print(numSongs, ' songs processed')\n",
    "                \n",
    "            track_id = int(os.path.splitext(file)[0])\n",
    "\n",
    "            sr_value, x_value = scipy.io.wavfile.read(os.path.join(subdir,file))\n",
    "            f, t, Sxx = signal.spectrogram(x=x_value,fs=sr_value, axis=0)\n",
    "            \n",
    "            Sxx[Sxx<0]= 0\n",
    "            Sxx+=1e-8\n",
    "            Sxx = np.log(Sxx)\n",
    "            \n",
    "            if Sxx.shape[1] < offset+dim:\n",
    "                continue\n",
    "                \n",
    "            numSongs += 1\n",
    "            if (numSongs > MAX_SONGS):\n",
    "                break\n",
    "                \n",
    "            data_x[numSongs-1, :, :] = Sxx[:,offset:offset+dim]\n",
    "            data_y.append(genre[genre['track_id'] == track_id]['genre_top'].iloc[0])\n",
    "        \n",
    "        except Exception as e: \n",
    "            print('Error with this file', e)\n",
    "    if (numSongs > MAX_SONGS):\n",
    "        break\n",
    "        \n",
    "# in case numSongs < max_songs\n",
    "data_x = data_x[0:numSongs-1, :, :]\n",
    "\n",
    "data_y = np.array(data_y)\n",
    "data_y = data_y[0:numSongs-1]\n",
    "\n",
    "np.save(output_x_name, data_x)\n",
    "np.save(output_y_name, data_y)"
   ]
  },
  {
   "cell_type": "code",
   "execution_count": null,
   "metadata": {},
   "outputs": [],
   "source": [
    "\n",
    "fig = plt.figure(figsize=(20,5))\n",
    "plt.pcolormesh(t, f, Sxx)\n",
    "plt.savefig('spectrum')\n",
    "plt.show()"
   ]
  }
 ],
 "metadata": {
  "kernelspec": {
   "display_name": "Python 3",
   "language": "python",
   "name": "python3"
  },
  "language_info": {
   "codemirror_mode": {
    "name": "ipython",
    "version": 3
   },
   "file_extension": ".py",
   "mimetype": "text/x-python",
   "name": "python",
   "nbconvert_exporter": "python",
   "pygments_lexer": "ipython3",
   "version": "3.6.2"
  }
 },
 "nbformat": 4,
 "nbformat_minor": 2
}
